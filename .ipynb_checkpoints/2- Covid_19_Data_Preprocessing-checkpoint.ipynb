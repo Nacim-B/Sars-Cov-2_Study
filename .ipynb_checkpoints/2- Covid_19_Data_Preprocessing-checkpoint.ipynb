{
 "cells": [
  {
   "cell_type": "code",
   "execution_count": 51,
   "id": "cb6502d1",
   "metadata": {},
   "outputs": [],
   "source": [
    "import numpy as np\n",
    "import pandas as pd\n",
    "import matplotlib.pyplot as plt\n",
    "import seaborn as sns"
   ]
  },
  {
   "cell_type": "code",
   "execution_count": 52,
   "id": "e6b3bc56",
   "metadata": {},
   "outputs": [],
   "source": [
    "data = pd.read_excel('data/dataset.xlsx')"
   ]
  },
  {
   "cell_type": "code",
   "execution_count": 53,
   "id": "32a20f50",
   "metadata": {},
   "outputs": [],
   "source": [
    "df = data.copy()"
   ]
  },
  {
   "cell_type": "code",
   "execution_count": 54,
   "id": "61dc5146",
   "metadata": {},
   "outputs": [],
   "source": [
    "missing_rate = df.isna().sum()/df.shape[0]\n",
    "\n",
    "blood_columns = list(df.columns[(missing_rate < 0.9) & (missing_rate > 0.88)])\n",
    "viral_columns = list(df.columns[(missing_rate < 0.80) & (missing_rate > 0.75)])\n",
    "key_columns = ['Patient age quantile','SARS-Cov-2 exam result']"
   ]
  },
  {
   "cell_type": "code",
   "execution_count": 55,
   "id": "fc6c9e52",
   "metadata": {},
   "outputs": [
    {
     "data": {
      "text/plain": [
       "(5644, 33)"
      ]
     },
     "execution_count": 55,
     "metadata": {},
     "output_type": "execute_result"
    }
   ],
   "source": [
    "df = df[key_columns + blood_columns + viral_columns]\n",
    "df.shape"
   ]
  },
  {
   "cell_type": "code",
   "execution_count": 56,
   "id": "1284cee1",
   "metadata": {},
   "outputs": [],
   "source": [
    "from sklearn.model_selection import train_test_split"
   ]
  },
  {
   "cell_type": "code",
   "execution_count": 57,
   "id": "2324d3c5",
   "metadata": {},
   "outputs": [],
   "source": [
    "trainset, testset = train_test_split(df, test_size = 0.2, random_state=0)"
   ]
  },
  {
   "cell_type": "code",
   "execution_count": 58,
   "id": "68c16069",
   "metadata": {},
   "outputs": [],
   "source": [
    "#encoding qualitative values into quantitative values\n",
    "\n",
    "def encoding(df):\n",
    "    code = {\n",
    "        'positive' : 1,\n",
    "        'negative' : 0,\n",
    "        'detected' : 1,\n",
    "        'not_detected' : 0\n",
    "    }\n",
    "    for col in df.select_dtypes('object'):\n",
    "        df[col] = df[col].map(code)\n",
    "    \n",
    "    return df"
   ]
  },
  {
   "cell_type": "code",
   "execution_count": 59,
   "id": "7d8bc39a",
   "metadata": {},
   "outputs": [],
   "source": [
    "#delation of the missing data\n",
    "\n",
    "def na_delation(df):\n",
    "    return df.dropna(axis = 0)"
   ]
  },
  {
   "cell_type": "code",
   "execution_count": 60,
   "id": "7c7ebd47",
   "metadata": {},
   "outputs": [],
   "source": [
    "def preprocessing(df):\n",
    "    df = encoding(df)\n",
    "    df = na_delation(df)\n",
    "    \n",
    "    X = df.drop('SARS-Cov-2 exam result', axis = 1)\n",
    "    y = df['SARS-Cov-2 exam result']\n",
    "    \n",
    "    return X, y"
   ]
  },
  {
   "cell_type": "code",
   "execution_count": 69,
   "id": "93da6a1c",
   "metadata": {},
   "outputs": [],
   "source": [
    "X_train, y_train = preprocessing(trainset)\n",
    "X_test, y_test = preprocessing(testset)"
   ]
  },
  {
   "cell_type": "code",
   "execution_count": 63,
   "id": "c2da508d",
   "metadata": {},
   "outputs": [],
   "source": [
    "from sklearn.tree import DecisionTreeClassifier"
   ]
  },
  {
   "cell_type": "code",
   "execution_count": 64,
   "id": "09aa2c3c",
   "metadata": {},
   "outputs": [],
   "source": [
    "model = DecisionTreeClassifier(random_state = 0)"
   ]
  },
  {
   "cell_type": "code",
   "execution_count": 66,
   "id": "f715d93b",
   "metadata": {},
   "outputs": [],
   "source": [
    "from sklearn.metrics import f1_score, confusion_matrix, classification_report\n",
    "from sklearn.model_selection import learning_curve"
   ]
  },
  {
   "cell_type": "code",
   "execution_count": 70,
   "id": "054e8fc2",
   "metadata": {},
   "outputs": [],
   "source": [
    "def evaluation(model):\n",
    "    model.fit(X_train, y_train)\n",
    "    pred = model.predict(X_test)\n",
    "    \n",
    "    print(confusion_matrix(y_test, pred))\n",
    "    print(classification_report(y_test, pred))"
   ]
  },
  {
   "cell_type": "code",
   "execution_count": 71,
   "id": "42c87d2b",
   "metadata": {},
   "outputs": [
    {
     "name": "stdout",
     "output_type": "stream",
     "text": [
      "[[52  2]\n",
      " [10  2]]\n",
      "              precision    recall  f1-score   support\n",
      "\n",
      "           0       0.84      0.96      0.90        54\n",
      "           1       0.50      0.17      0.25        12\n",
      "\n",
      "    accuracy                           0.82        66\n",
      "   macro avg       0.67      0.56      0.57        66\n",
      "weighted avg       0.78      0.82      0.78        66\n",
      "\n"
     ]
    }
   ],
   "source": [
    "evaluation(model)"
   ]
  },
  {
   "cell_type": "code",
   "execution_count": null,
   "id": "bded23d0",
   "metadata": {},
   "outputs": [],
   "source": []
  }
 ],
 "metadata": {
  "kernelspec": {
   "display_name": "Python 3 (ipykernel)",
   "language": "python",
   "name": "python3"
  },
  "language_info": {
   "codemirror_mode": {
    "name": "ipython",
    "version": 3
   },
   "file_extension": ".py",
   "mimetype": "text/x-python",
   "name": "python",
   "nbconvert_exporter": "python",
   "pygments_lexer": "ipython3",
   "version": "3.9.16"
  }
 },
 "nbformat": 4,
 "nbformat_minor": 5
}
